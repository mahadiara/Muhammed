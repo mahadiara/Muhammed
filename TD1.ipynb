{
 "cells": [
  {
   "cell_type": "markdown",
   "id": "56280a62",
   "metadata": {},
   "source": [
    "#Exercice "
   ]
  },
  {
   "cell_type": "code",
   "execution_count": 2,
   "id": "92f4de33",
   "metadata": {},
   "outputs": [
    {
     "name": "stdout",
     "output_type": "stream",
     "text": [
      "saisir note1 :12\n",
      "saisir note2 :1\n",
      "note1 : 1 note2 : 12\n"
     ]
    }
   ],
   "source": [
    "#EXO1\n",
    "a=int(input(\"saisir note1 :\"))\n",
    "b=int(input(\"saisir note2 :\"))\n",
    "a,b=b,a\n",
    "print('note1 :',a , 'note2 :',b)\n"
   ]
  },
  {
   "cell_type": "code",
   "execution_count": 4,
   "id": "d5640114",
   "metadata": {},
   "outputs": [
    {
     "name": "stdout",
     "output_type": "stream",
     "text": [
      "entrer la valeur de x:23\n",
      "entrer la valeur de y:2\n",
      "entrer la valeur de z:43\n",
      "la somme est : 22.666666666666668\n"
     ]
    }
   ],
   "source": [
    "#EXO3\n",
    "x = float (input('entrer la valeur de x:'))\n",
    "y = float (input('entrer la valeur de y:'))\n",
    "z = float (input('entrer la valeur de z:'))\n",
    "s=x+y+z\n",
    "m = s/3\n",
    "print(\"la somme est :\",m)"
   ]
  },
  {
   "cell_type": "code",
   "execution_count": 7,
   "id": "6d7478b4",
   "metadata": {},
   "outputs": [
    {
     "name": "stdout",
     "output_type": "stream",
     "text": [
      "entrer le nom de la produitBONBON\n",
      "donner le prix de la produit100\n",
      "le prix hors taxe est: 100\n",
      "le prix tous taxes comprises est : 118.0\n"
     ]
    }
   ],
   "source": [
    "#EXO4\n",
    "TVA=0.18\n",
    "N=(input('entrer le nom de la produit'))\n",
    "PHT=int(input('donner le prix de la produit'))\n",
    "PTTC=PHT+(PHT*TVA)\n",
    "print('le prix hors taxe est:',PHT)\n",
    "print('le prix tous taxes comprises est :',PTTC)"
   ]
  },
  {
   "cell_type": "code",
   "execution_count": 14,
   "id": "9aaf6b12",
   "metadata": {},
   "outputs": [
    {
     "name": "stdout",
     "output_type": "stream",
     "text": [
      "entrer trois valeurs\n",
      "1\n",
      "1\n",
      "1\n",
      "les nombres sont égaux\n"
     ]
    }
   ],
   "source": [
    "#EXO6\n",
    "print('entrer trois valeurs')\n",
    "a=int(input())\n",
    "b=int(input())\n",
    "c=int(input())\n",
    "if a>b and a>c:\n",
    "     print(a,'est plus grand')\n",
    "elif b>a and b>c:\n",
    "     print(b,'est plus grand')\n",
    "elif c>a and c>b:\n",
    "     print(c,'est plus grand')\n",
    "else:\n",
    "    print('les nombres sont égaux')\n",
    "        \n",
    "\n",
    "            \n",
    "           \n"
   ]
  },
  {
   "cell_type": "code",
   "execution_count": null,
   "id": "7db49424",
   "metadata": {},
   "outputs": [],
   "source": [
    "#EXO_8\n",
    "a=int(input('donner la valeur de a:'))\n",
    "b=int(input('donner la valeur de b:'))\n",
    "if a==0 and b==0:\n",
    "    print('pas de solution')\n",
    "else:\n",
    "    s= -b/a\n",
    "    print('La solution est',s )\n"
   ]
  },
  {
   "cell_type": "code",
   "execution_count": 2,
   "id": "07a5f8d8",
   "metadata": {},
   "outputs": [
    {
     "name": "stdout",
     "output_type": "stream",
     "text": [
      "saisir la note5\n",
      "Non acquise\n"
     ]
    }
   ],
   "source": [
    "#EXO9\n",
    "N=int(input('saisir la note'))\n",
    "if N<14:\n",
    "    print('Non acquise')\n",
    "else:\n",
    "    print('Acquise')"
   ]
  },
  {
   "cell_type": "code",
   "execution_count": 3,
   "id": "1ffaa8d6",
   "metadata": {},
   "outputs": [
    {
     "name": "stdout",
     "output_type": "stream",
     "text": [
      "entrer la valeur33\n",
      "entrer la valeur7\n",
      "la somme des valeur est positive\n"
     ]
    }
   ],
   "source": [
    "#EXO10\n",
    "a=int(input('entrer la valeur'))\n",
    "b=int(input('entrer la valeur'))\n",
    "s=a+b \n",
    "if s>0:\n",
    "      print('la somme des valeur est positive')\n",
    "elif s<0:\n",
    "      print('la somme des valeur est negative')\n",
    "else:\n",
    "      print('la somme des valeur est nulle')\n",
    "      \n",
    "      \n",
    "      "
   ]
  },
  {
   "cell_type": "code",
   "execution_count": 4,
   "id": "252a9d2d",
   "metadata": {},
   "outputs": [
    {
     "name": "stdout",
     "output_type": "stream",
     "text": [
      "entrer la valeur2\n",
      "entrer la valeur3\n",
      "la somme des valeur est positive\n"
     ]
    }
   ],
   "source": [
    "#EXO11\n",
    "a=int(input('entrer la valeur'))\n",
    "b=int(input('entrer la valeur'))\n",
    "s=a*b \n",
    "if s>0:\n",
    "      print('la somme des valeur est positive')\n",
    "else:\n",
    "      print('la somme des valeur est negative')\n",
    "\n",
    "      \n",
    "      \n",
    "      \n"
   ]
  },
  {
   "cell_type": "code",
   "execution_count": 18,
   "id": "317548be",
   "metadata": {},
   "outputs": [
    {
     "name": "stdout",
     "output_type": "stream",
     "text": [
      "entrer l'age3\n",
      "Enfant\n"
     ]
    }
   ],
   "source": [
    "#EXO12\n",
    "age=int(input(\"entrer l'age\"))\n",
    "if age>0 and age<14:\n",
    "    print('Enfant')\n",
    "elif age>=15 and age<=24:\n",
    "    print('Adolescent')\n",
    "elif age>=25 and age<=64:\n",
    "    print('Adulte')\n",
    "else:\n",
    "    print('Vieux')\n",
    "\n"
   ]
  },
  {
   "cell_type": "code",
   "execution_count": 8,
   "id": "f8271ef7",
   "metadata": {},
   "outputs": [
    {
     "name": "stdout",
     "output_type": "stream",
     "text": [
      "entrer un nombre6\n",
      "JUIN\n"
     ]
    }
   ],
   "source": [
    "#EXO13\n",
    "mois=int(input('entrer un nombre'))\n",
    "if mois==1:\n",
    "    print('JANVIER')\n",
    "elif mois==2:\n",
    "    print('FEVRIER')\n",
    "elif mois==3:\n",
    "    print('MARS')\n",
    "elif mois==4:\n",
    "    print('AVRIL')\n",
    "elif mois==5:\n",
    "    print('MAI')\n",
    "elif mois==6:\n",
    "    print('JUIN')    \n",
    "elif mois==7:\n",
    "    print('JUILLET')    \n",
    "elif mois==8:\n",
    "    print('AOUT')    \n",
    "elif mois==9:\n",
    "    print('SEPTEMBRE')    \n",
    "elif mois==10:\n",
    "    print('NOVEMBRE')\n",
    "elif mois==11:\n",
    "    print('OCTOBRE')  \n",
    "elif mois==12:\n",
    "    print('DECEMBRE') \n",
    "else:\n",
    "    print('erreur')\n",
    "    "
   ]
  },
  {
   "cell_type": "code",
   "execution_count": 24,
   "id": "ff945c85",
   "metadata": {},
   "outputs": [
    {
     "ename": "SyntaxError",
     "evalue": "invalid syntax (831723177.py, line 5)",
     "output_type": "error",
     "traceback": [
      "\u001b[1;36m  Input \u001b[1;32mIn [24]\u001b[1;36m\u001b[0m\n\u001b[1;33m    print('Dans une minute il sera',h,'h' mn+1,'mn')\u001b[0m\n\u001b[1;37m                                          ^\u001b[0m\n\u001b[1;31mSyntaxError\u001b[0m\u001b[1;31m:\u001b[0m invalid syntax\n"
     ]
    }
   ],
   "source": [
    "#EXO14\n",
    "h=int(input('il fait quel heure'))\n",
    "mn=int(input('combien de minutes'))\n",
    "if h>23 and mn<59:\n",
    "    print('Dans une minute il sera',h,'h' mn+1,'mn')\n",
    "elif h>23 and mn==59:\n",
    "    print('Dans une minute il sera',h+1,'h' mn+1,'00mn')\n",
    " \n",
    "\n"
   ]
  },
  {
   "cell_type": "code",
   "execution_count": 11,
   "id": "c3ab19ea",
   "metadata": {},
   "outputs": [
    {
     "name": "stdout",
     "output_type": "stream",
     "text": [
      "donner le jour24\n",
      "donner le mois4\n",
      "donner l'année45\n",
      "la date est 24 4 45\n"
     ]
    }
   ],
   "source": [
    "#EXO16\n",
    "J=int(input('donner le jour'))\n",
    "M=int(input('donner le mois'))\n",
    "A=int(input(\"donner l'année\")) \n",
    "if J>=31 and M>=12:\n",
    "    print('Date invalide')\n",
    "else:\n",
    "    print('la date est',J,M,A)"
   ]
  },
  {
   "cell_type": "code",
   "execution_count": null,
   "id": "51878876",
   "metadata": {},
   "outputs": [],
   "source": [
    "#EXO15\n"
   ]
  },
  {
   "cell_type": "code",
   "execution_count": 9,
   "id": "b73854d3",
   "metadata": {},
   "outputs": [
    {
     "name": "stdout",
     "output_type": "stream",
     "text": [
      "donner la valeur de A:2\n",
      "donner la valeur de b:4\n",
      "8\n"
     ]
    }
   ],
   "source": [
    "#EXERCICE 1\n",
    "A=int(input('donner la valeur de A:'))\n",
    "B=int(input('donner la valeur de b:'))\n",
    "A=B\n",
    "\n",
    "print(A+B)"
   ]
  },
  {
   "cell_type": "code",
   "execution_count": 10,
   "id": "a602bb72",
   "metadata": {},
   "outputs": [
    {
     "name": "stdout",
     "output_type": "stream",
     "text": [
      "entrer une valeur-4\n",
      "4\n"
     ]
    }
   ],
   "source": [
    "#EXERCOCE 2\n",
    "A=int(input('entrer une valeur'))\n",
    "A=abs(A)\n",
    "print(A)"
   ]
  },
  {
   "cell_type": "code",
   "execution_count": 17,
   "id": "dff4c4d0",
   "metadata": {},
   "outputs": [
    {
     "name": "stdout",
     "output_type": "stream",
     "text": [
      "entrer un nombre:10\n",
      "entrer un autre10\n",
      "entrer encore10\n",
      "10.0\n"
     ]
    }
   ],
   "source": [
    "#EXERCICE3\n",
    "A=int(input('entrer un nombre:'))\n",
    "B=int(input('entrer un autre'))\n",
    "C=int(input('entrer encore'))\n",
    "S=A+B+C\n",
    "M=S/3\n",
    "print(M)\n",
    "         "
   ]
  },
  {
   "cell_type": "code",
   "execution_count": 22,
   "id": "8d261803",
   "metadata": {},
   "outputs": [
    {
     "name": "stdout",
     "output_type": "stream",
     "text": [
      "entrer un entier3\n",
      "impair\n"
     ]
    }
   ],
   "source": [
    "#EXERCICE5\n",
    "N=int(input('entrer un entier'))\n",
    "if N%2==0:\n",
    "    print('Pair')\n",
    "else:\n",
    "    print('impair')"
   ]
  },
  {
   "cell_type": "code",
   "execution_count": null,
   "id": "58403946",
   "metadata": {},
   "outputs": [],
   "source": [
    "#exo16\n"
   ]
  }
 ],
 "metadata": {
  "kernelspec": {
   "display_name": "Python 3 (ipykernel)",
   "language": "python",
   "name": "python3"
  },
  "language_info": {
   "codemirror_mode": {
    "name": "ipython",
    "version": 3
   },
   "file_extension": ".py",
   "mimetype": "text/x-python",
   "name": "python",
   "nbconvert_exporter": "python",
   "pygments_lexer": "ipython3",
   "version": "3.9.12"
  }
 },
 "nbformat": 4,
 "nbformat_minor": 5
}
